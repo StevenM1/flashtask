{
 "cells": [
  {
   "cell_type": "code",
   "execution_count": 1,
   "metadata": {
    "collapsed": true
   },
   "outputs": [],
   "source": [
    "import numpy as np\n",
    "import pandas as pd\n",
    "import nipy\n",
    "from nipy.modalities.fmri import hrf, utils\n",
    "from pprint import pprint\n",
    "import os\n",
    "import seaborn as sns\n",
    "import matplotlib\n",
    "import matplotlib.pyplot as plt\n",
    "import matplotlib.ticker as tkr     # has classes for tick-locating and -formatting\n",
    "#%matplotlib inline\n",
    "\n",
    "def numfmt(x, pos): # your custom formatter function: divide by 100.0\n",
    "    s = '{}'.format(x / 10.0)\n",
    "    return s"
   ]
  },
  {
   "cell_type": "markdown",
   "metadata": {},
   "source": [
    "### Model BOLD-response using glover\n",
    "function taken from nipy"
   ]
  },
  {
   "cell_type": "code",
   "execution_count": 2,
   "metadata": {},
   "outputs": [
    {
     "data": {
      "text/plain": [
       "<matplotlib.text.Text at 0x1154147d0>"
      ]
     },
     "execution_count": 2,
     "metadata": {},
     "output_type": "execute_result"
    }
   ],
   "source": [
    "# hrf.glover is a symbolic function; get a function of time to work on arrays\n",
    "hrf_func = utils.lambdify_t(hrf.glover(utils.T))\n",
    "\n",
    "# Time array\n",
    "t = np.linspace(0,25,200)\n",
    "\n",
    "# plot BOLD as function of time\n",
    "plt.plot(t, hrf_func(t))\n",
    "a=plt.gca()\n",
    "a.set_xlabel(r'$t$')\n",
    "a.set_ylabel(r'$h_{can}(t)$')"
   ]
  },
  {
   "cell_type": "markdown",
   "metadata": {},
   "source": [
    "## Function to create EV matrix for a single participant\n",
    "The EV matrix is of size (n_deciseconds, n_evs). The columns are boxcar functions of the events\n",
    "The returned matrix X is of size (n_deciseconds, n_evs), and is the EV matrix convolved with the HRF\n",
    "\n",
    "Note that timing can be planned to be on a more finegrained resolution than deciseconds. For computational purposes, we round everything to deciseconds."
   ]
  },
  {
   "cell_type": "code",
   "execution_count": 3,
   "metadata": {
    "collapsed": true
   },
   "outputs": [],
   "source": [
    "def stim_to_design(pp_design, block=None):\n",
    "    \n",
    "    # Check if we only need to do a subset of the design\n",
    "    if block is not None:\n",
    "        pp_design = pp_design.loc[pp_design['block'] == block]\n",
    "    \n",
    "    # Get rid of null trials\n",
    "    pp_design = pp_design.loc[pp_design['null_trial'] == False,:]\n",
    "\n",
    "    # hrf.glover is a symbolic function; get a function of time to work on arrays\n",
    "    hrf_func = utils.lambdify_t(hrf.glover(utils.T))\n",
    "    \n",
    "    n_conditions = len(np.unique(pp_design['cue']))\n",
    "    max_time = np.ceil((pp_design['stimulus_onset_time'].max()+25)*10)\n",
    "\n",
    "    if 0 in pp_design['block'].unique():\n",
    "        block0_trials = pp_design.loc[pp_design['block'] == 0]\n",
    "        # Get cue-types and response types for the first block\n",
    "        loc_cue_vec = np.zeros(shape=(int(max_time), 4))\n",
    "        response_vec = np.zeros(shape=(int(max_time), 4))\n",
    "        loc_cue_names = []\n",
    "        response_names = []\n",
    "\n",
    "        i = -1\n",
    "        for effector_type in block0_trials['response_modality'].unique():\n",
    "            for cue_type in block0_trials['cue'].unique():\n",
    "                \n",
    "                subset = pp_design.loc[(pp_design['block'] == 0 ) &\n",
    "                                       (pp_design['response_modality'] == effector_type) &\n",
    "                                       (pp_design['cue'] == cue_type)]\n",
    "                i += 1\n",
    "                response_names.append('resp_%s_%s' % (effector_type, cue_type))\n",
    "                loc_cue_names.append('cue_%s_%s' % (effector_type, cue_type))\n",
    "\n",
    "                # Get cue onsets & durations\n",
    "                onsets = np.round(subset['cue_onset_time'].values*10)\n",
    "                durations = np.round(subset['phase_2'].values*10)\n",
    "                for onset, duration in zip(onsets, durations):\n",
    "                    loc_cue_vec[np.arange(onset, onset+duration, dtype='int'), i] = 1\n",
    "\n",
    "                # Get response onsets & durations\n",
    "                onsets = np.round(subset['stimulus_onset_time'].values*10)\n",
    "                durations = np.round(subset['phase_4'].values*10)\n",
    "                for onset, duration in zip(onsets, durations):\n",
    "                    response_vec[np.arange(onset, onset+duration, dtype='int'), i] = 1\n",
    "        \n",
    "        # For all further EVs, make sure not to include the localizer trials.\n",
    "        pp_design = pp_design.loc[pp_design['block'] > 0]\n",
    "\n",
    "    # 10 types of stimuli\n",
    "    stim_vec = np.zeros(shape=(int(max_time), 10))\n",
    "    stim_names = []\n",
    "    \n",
    "    # Get stimulus onsets and durations\n",
    "    i = -1\n",
    "    for stim_type in pp_design['correct_answer'].unique():\n",
    "        \n",
    "        for cue_type in pp_design['cue'].unique():\n",
    "            i += 1\n",
    "            stim_names.append('stimulus_' + str(int(stim_type)) + '_' + cue_type)\n",
    "            subset = pp_design.loc[(pp_design['correct_answer'] == stim_type) &\n",
    "                                   (pp_design['cue'] == cue_type)]\n",
    "            stim_onsets = np.round(subset['stimulus_onset_time'].values*10)\n",
    "            stim_durations = np.round(subset['phase_4'].values*10)\n",
    "\n",
    "            for onset, duration in zip(stim_onsets, stim_durations):\n",
    "                stim_vec[np.arange(onset, onset+duration, dtype='int'), i] = 1\n",
    "    \n",
    "    # Get cue onsets by cue type\n",
    "    cue_names = []\n",
    "    cue_vec = np.zeros(shape=(int(max_time), n_conditions))  # A column per cue type condition\n",
    "    i = -1\n",
    "    for condition in pp_design['cue'].unique():\n",
    "        i += 1\n",
    "        cue_names.append('cue_' + condition)\n",
    "\n",
    "        # Find cue onsets\n",
    "        onsets = np.round(pp_design.loc[pp_design['cue'] == condition, 'cue_onset_time'].values*10)\n",
    "        durations = np.round(pp_design.loc[pp_design['cue'] == condition, 'phase_2'].values*10)\n",
    "        for onset, duration in zip(onsets, durations):\n",
    "            cue_vec[np.arange(onset, onset+duration, dtype='int'), i] = 1\n",
    "    \n",
    "    # Combine everything in a single array\n",
    "    ev_vec = np.hstack((loc_cue_vec, response_vec, cue_vec, stim_vec))\n",
    "    ev_names = loc_cue_names + response_names + cue_names + stim_names\n",
    "            \n",
    "    # Create hrf to convolve with\n",
    "    hrf_full = hrf_func(np.linspace(0, stop=int(max_time/10), num=int(max_time)))\n",
    "\n",
    "    # Pre-allocate output. This will be an n_timepoints x n_conditions+1 matrix.\n",
    "    X = np.empty(shape=(int(max_time), ev_vec.shape[1]))\n",
    "\n",
    "    # Convolve everything: the stimulus first, the cues afterwards.\n",
    "    for i, ev_name in enumerate(ev_names):\n",
    "        print('Convolving %s...' % ev_name)\n",
    "        X[:, i] = np.convolve(hrf_full, ev_vec[:, i])[:int(max_time)]\n",
    "            \n",
    "    return X, ev_names"
   ]
  },
  {
   "cell_type": "markdown",
   "metadata": {},
   "source": [
    "## Function to plot an individual participant's design"
   ]
  },
  {
   "cell_type": "code",
   "execution_count": 4,
   "metadata": {
    "collapsed": true
   },
   "outputs": [],
   "source": [
    "def plot_participant_design(pp_design, pp_num, save_dir, block=None, X=None, ev_names=None, null_onsets=None):\n",
    "\n",
    "    if X is None:\n",
    "        X, ev_names = stim_to_design(pp_design, block)\n",
    "    n_evs = len(ev_names)\n",
    "    X = pd.DataFrame(X, columns=ev_names)\n",
    "    plot_order = ['cue_eye_LEFT', 'cue_eye_RIGHT', 'cue_hand_LEFT', 'cue_hand_RIGHT',\n",
    "                  'resp_hand_LEFT', 'resp_hand_RIGHT', 'resp_eye_LEFT', 'resp_eye_RIGHT',\n",
    "                  'cue_SPD', 'cue_ACC', 'cue_LEFT', 'cue_NEU', 'cue_RIGHT', \n",
    "                  'stimulus_0_SPD', 'stimulus_0_ACC',\n",
    "                  'stimulus_0_LEFT', 'stimulus_0_NEU', 'stimulus_0_RIGHT',\n",
    "                  'stimulus_1_SPD', 'stimulus_1_ACC', \n",
    "                  'stimulus_1_LEFT', 'stimulus_1_NEU', 'stimulus_1_RIGHT']\n",
    "    X = X[plot_order].values\n",
    "    \n",
    "    # Get nulls\n",
    "    nulls = pp_design.loc[pp_design['null_trial'] == True]\n",
    "    null_onsets = np.round(nulls['trial_start_time'].values*10)\n",
    "\n",
    "    # Get block start times\n",
    "    block_start_times = pp_design.loc[pp_design['block_trial_ID'] == 0, 'trial_start_time'].values*10\n",
    "\n",
    "    yfmt = tkr.FuncFormatter(numfmt)    # create custom formatter function (re-format y-axis for seconds instead of 1/10th secs)\n",
    "\n",
    "    # Plot\n",
    "    X_plot = X/np.max(X)\n",
    "    f = plt.figure(figsize=(10, 40))\n",
    "    for plot in range(n_evs):\n",
    "        plt.plot(X_plot[:, plot] + plot, np.arange(X.shape[0]))\n",
    "\n",
    "    # Set y-axis\n",
    "    plt.ylabel('Time (s)')\n",
    "    plt.ylim((pp_design['cue_onset_time'].min()*10, X.shape[0]))\n",
    "    ax = plt.gca()\n",
    "    \n",
    "    # Plot null trial locations\n",
    "    xlims = ax.get_xlim()\n",
    "    for y_loc in null_onsets:\n",
    "        plt.axhline(y=y_loc, xmin=xlims[0], xmax=xlims[1], linewidth=1, color='k', ls='dashed')\n",
    "    \n",
    "    # Plot block start locations (except for the first)\n",
    "    for y_loc in block_start_times[1:]:\n",
    "        plt.axhline(y=y_loc, xmin=xlims[0], xmax=xlims[1], linewidth=1, color='k')\n",
    "    \n",
    "    ax.invert_yaxis()\n",
    "    ax.yaxis.set_major_formatter(yfmt)\n",
    "    \n",
    "    # Set x-axis\n",
    "    plt.xticks(np.arange(len(ev_names)), plot_order, rotation=70)\n",
    "    ax.xaxis.tick_top()\n",
    "\n",
    "    f.set_size_inches(10, 40)\n",
    "    print(save_dir)\n",
    "    plt.savefig(os.path.join(save_dir, 'pp_%s_design.png' % str(pp_num).zfill(3)), bbox_inches='tight')"
   ]
  },
  {
   "cell_type": "code",
   "execution_count": 5,
   "metadata": {
    "collapsed": true
   },
   "outputs": [],
   "source": [
    "def plot_participant_matrix(X, ev_names, save_dir, pp_num, plot_order=None, block_name=''):\n",
    "    \n",
    "    if plot_order is None:\n",
    "        plot_order = ['cue_eye_LEFT', 'cue_eye_RIGHT', 'cue_hand_LEFT', 'cue_hand_RIGHT',\n",
    "                      'resp_hand_LEFT', 'resp_hand_RIGHT', 'resp_eye_LEFT', 'resp_eye_RIGHT',\n",
    "                      'cue_SPD', 'cue_ACC', 'cue_LEFT', 'cue_NEU', 'cue_RIGHT', \n",
    "                      'stimulus_0_SPD', 'stimulus_0_ACC',\n",
    "                      'stimulus_0_LEFT', 'stimulus_0_NEU', 'stimulus_0_RIGHT',\n",
    "                      'stimulus_1_SPD', 'stimulus_1_ACC', \n",
    "                      'stimulus_1_LEFT', 'stimulus_1_NEU', 'stimulus_1_RIGHT']\n",
    "\n",
    "    X = np.hstack((np.ones(shape=(X.shape[0], 1)), X))  # Add column of ones to design matrix? for 'event' in general/baseline?\n",
    "    df = pd.DataFrame(X[:,1:], columns=ev_names)\n",
    "\n",
    "    df = df[plot_order].corr()\n",
    "    corr = np.abs(df)\n",
    "\n",
    "    # Plot\n",
    "    plt.figure(figsize = (10,10))\n",
    "    f = sns.heatmap(corr, vmax=1, vmin=0, center=.5, cmap='gray',\n",
    "                square=True, linewidths=0.00, cbar_kws={\"shrink\": .5}).get_figure()\n",
    "    f.savefig(os.path.join(save_dir, 'pp_%s_block_%s_matrix.png' % (str(pp_num).zfill(3), block_name)), bbox_inches='tight')"
   ]
  },
  {
   "cell_type": "code",
   "execution_count": 6,
   "metadata": {
    "scrolled": true
   },
   "outputs": [
    {
     "name": "stderr",
     "output_type": "stream",
     "text": [
      "/Users/steven/anaconda/envs/subcortex/lib/python2.7/site-packages/matplotlib/__init__.py:1405: UserWarning: \n",
      "This call to matplotlib.use() has no effect because the backend has already\n",
      "been chosen; matplotlib.use() must be called *before* pylab, matplotlib.pyplot,\n",
      "or matplotlib.backends is imported for the first time.\n",
      "\n",
      "  warnings.warn(_use_error_msg)\n"
     ]
    },
    {
     "name": "stdout",
     "output_type": "stream",
     "text": [
      "Processing participant 1\n",
      "Convolving cue_hand_LEFT...\n",
      "Convolving cue_hand_RIGHT...\n",
      "Convolving cue_eye_LEFT...\n",
      "Convolving cue_eye_RIGHT...\n",
      "Convolving resp_hand_LEFT...\n",
      "Convolving resp_hand_RIGHT...\n",
      "Convolving resp_eye_LEFT...\n",
      "Convolving resp_eye_RIGHT...\n",
      "Convolving cue_SPD...\n",
      "Convolving cue_ACC...\n",
      "Convolving cue_LEFT...\n",
      "Convolving cue_NEU...\n",
      "Convolving cue_RIGHT...\n",
      "Convolving stimulus_0_SPD...\n",
      "Convolving stimulus_0_ACC...\n",
      "Convolving stimulus_0_LEFT...\n",
      "Convolving stimulus_0_NEU...\n",
      "Convolving stimulus_0_RIGHT...\n",
      "Convolving stimulus_1_SPD...\n",
      "Convolving stimulus_1_ACC...\n",
      "Convolving stimulus_1_LEFT...\n",
      "Convolving stimulus_1_NEU...\n",
      "Convolving stimulus_1_RIGHT...\n",
      "/Users/steven/Documents/Syncthing/PhDprojects/subcortex/flashtask/designs/\n"
     ]
    }
   ],
   "source": [
    "design_dirs = '/Users/steven/Documents/Syncthing/PhDprojects/subcortex/flashtask/designs/'\n",
    "overwrite = True\n",
    "pps = range(1, 1+1)\n",
    "matplotlib.use('Agg')\n",
    "#%matplotlib auto\n",
    "\n",
    "if overwrite:\n",
    "    for pp in pps:\n",
    "        print('Processing participant %d' % pp)\n",
    "        pp_num = str(pp).zfill(3)\n",
    "        pp_dir = os.path.join(design_dirs, 'pp_%s' % pp_num, 'all_blocks')\n",
    "        \n",
    "        design_this_pp = pd.read_csv(os.path.join(pp_dir, 'trials.csv'))\n",
    "        design_this_pp = design_this_pp[['trial_type', 'correct_answer','response_modality', 'block_trial_ID', 'block', 'phase_2', 'phase_4', 'cue', 'cue_onset_time', 'stimulus_onset_time', 'trial_start_time', 'null_trial']]\n",
    "        X, ev_names = stim_to_design(design_this_pp)\n",
    "        \n",
    "        plot_participant_design(design_this_pp, pp, save_dir=design_dirs, X=X, ev_names=ev_names)\n",
    "        plot_participant_matrix(X, ev_names, design_dirs, pp, block_name='all')\n",
    "        plot_participant_matrix(X, ev_names, design_dirs, pp, \n",
    "                                plot_order=['cue_eye_LEFT', 'cue_eye_RIGHT', 'cue_hand_LEFT', 'cue_hand_RIGHT',\n",
    "                                            'resp_hand_LEFT', 'resp_hand_RIGHT', 'resp_eye_LEFT', 'resp_eye_RIGHT'],\n",
    "                               block_name='localizer')\n",
    "        plot_participant_matrix(X, ev_names, design_dirs, pp, \n",
    "                                plot_order=['cue_SPD', 'cue_ACC', 'stimulus_0_SPD', 'stimulus_0_ACC', 'stimulus_1_SPD',\n",
    "                                            'stimulus_1_ACC'],\n",
    "                               block_name='cognitive')\n",
    "        plot_participant_matrix(X, ev_names, design_dirs, pp, \n",
    "                                plot_order=['cue_LEFT', 'cue_NEU', 'cue_RIGHT', \n",
    "                                            'stimulus_0_LEFT', 'stimulus_0_NEU', 'stimulus_0_RIGHT',\n",
    "                                            'stimulus_1_LEFT', 'stimulus_1_NEU', 'stimulus_1_RIGHT'],\n",
    "                               block_name='limbic')"
   ]
  },
  {
   "cell_type": "markdown",
   "metadata": {},
   "source": [
    "## Calculate efficiency"
   ]
  },
  {
   "cell_type": "code",
   "execution_count": null,
   "metadata": {
    "collapsed": true
   },
   "outputs": [],
   "source": []
  }
 ],
 "metadata": {
  "kernelspec": {
   "display_name": "Python 2",
   "language": "python",
   "name": "python2"
  },
  "language_info": {
   "codemirror_mode": {
    "name": "ipython",
    "version": 2
   },
   "file_extension": ".py",
   "mimetype": "text/x-python",
   "name": "python",
   "nbconvert_exporter": "python",
   "pygments_lexer": "ipython2",
   "version": "2.7.13"
  }
 },
 "nbformat": 4,
 "nbformat_minor": 2
}
