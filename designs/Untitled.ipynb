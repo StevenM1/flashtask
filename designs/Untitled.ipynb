{
 "cells": [
  {
   "cell_type": "code",
   "execution_count": 34,
   "metadata": {
    "collapsed": true
   },
   "outputs": [],
   "source": [
    "from psychopy import data\n",
    "from glob import glob"
   ]
  },
  {
   "cell_type": "code",
   "execution_count": 31,
   "metadata": {
    "collapsed": true
   },
   "outputs": [],
   "source": [
    "exph = data.ExperimentHandler()\n",
    "pp = '001'"
   ]
  },
  {
   "cell_type": "code",
   "execution_count": 36,
   "metadata": {},
   "outputs": [
    {
     "name": "stdout",
     "output_type": "stream",
     "text": [
      "./pp_001_block_0_type_L.csv\n",
      "./pp_001_block_1_type_A.csv\n",
      "./pp_001_block_2_type_B.csv\n",
      "./pp_001_block_3_type_D.csv\n",
      "./pp_001_block_4_type_C.csv\n"
     ]
    }
   ],
   "source": [
    "for block_n in range(5):\n",
    "    # Get path\n",
    "    path = glob('./pp_001_block_%d_*' % block_n)[0]\n",
    "    print(path)\n",
    "    cond = data.importConditions('./pp_001_block_0_type_L.csv')\n",
    "    th = data.TrialHandler(cond, 1, 'sequential')\n",
    "    exph.addLoop(th)"
   ]
  },
  {
   "cell_type": "code",
   "execution_count": 33,
   "metadata": {},
   "outputs": [
    {
     "name": "stdout",
     "output_type": "stream",
     "text": [
      "{u'trial_type': 2, u'cue': u'HAND', u'block_type': u'localizer', u'correct_answer': 0, u'response_modality': u'hand', u'block': 0}\n",
      "{u'trial_type': 3, u'cue': u'HAND', u'block_type': u'localizer', u'correct_answer': 1, u'response_modality': u'hand', u'block': 0}\n",
      "{u'trial_type': 2, u'cue': u'HAND', u'block_type': u'localizer', u'correct_answer': 0, u'response_modality': u'hand', u'block': 0}\n",
      "{u'trial_type': 1, u'cue': u'EYE', u'block_type': u'localizer', u'correct_answer': 1, u'response_modality': u'eye', u'block': 0}\n",
      "{u'trial_type': 3, u'cue': u'HAND', u'block_type': u'localizer', u'correct_answer': 1, u'response_modality': u'hand', u'block': 0}\n",
      "{u'trial_type': 3, u'cue': u'HAND', u'block_type': u'localizer', u'correct_answer': 1, u'response_modality': u'hand', u'block': 0}\n",
      "{u'trial_type': 0, u'cue': u'EYE', u'block_type': u'localizer', u'correct_answer': 0, u'response_modality': u'eye', u'block': 0}\n",
      "{u'trial_type': 1, u'cue': u'EYE', u'block_type': u'localizer', u'correct_answer': 1, u'response_modality': u'eye', u'block': 0}\n",
      "{u'trial_type': 0, u'cue': u'EYE', u'block_type': u'localizer', u'correct_answer': 0, u'response_modality': u'eye', u'block': 0}\n",
      "{u'trial_type': 2, u'cue': u'HAND', u'block_type': u'localizer', u'correct_answer': 0, u'response_modality': u'hand', u'block': 0}\n",
      "{u'trial_type': 3, u'cue': u'HAND', u'block_type': u'localizer', u'correct_answer': 1, u'response_modality': u'hand', u'block': 0}\n",
      "{u'trial_type': 0, u'cue': u'EYE', u'block_type': u'localizer', u'correct_answer': 0, u'response_modality': u'eye', u'block': 0}\n",
      "{u'trial_type': 1, u'cue': u'EYE', u'block_type': u'localizer', u'correct_answer': 1, u'response_modality': u'eye', u'block': 0}\n",
      "{u'trial_type': 2, u'cue': u'HAND', u'block_type': u'localizer', u'correct_answer': 0, u'response_modality': u'hand', u'block': 0}\n",
      "{u'trial_type': 0, u'cue': u'EYE', u'block_type': u'localizer', u'correct_answer': 0, u'response_modality': u'eye', u'block': 0}\n",
      "{u'trial_type': 2, u'cue': u'HAND', u'block_type': u'localizer', u'correct_answer': 0, u'response_modality': u'hand', u'block': 0}\n",
      "{u'trial_type': 3, u'cue': u'HAND', u'block_type': u'localizer', u'correct_answer': 1, u'response_modality': u'hand', u'block': 0}\n",
      "{u'trial_type': 1, u'cue': u'EYE', u'block_type': u'localizer', u'correct_answer': 1, u'response_modality': u'eye', u'block': 0}\n",
      "{u'trial_type': 0, u'cue': u'EYE', u'block_type': u'localizer', u'correct_answer': 0, u'response_modality': u'eye', u'block': 0}\n",
      "{u'trial_type': 1, u'cue': u'EYE', u'block_type': u'localizer', u'correct_answer': 1, u'response_modality': u'eye', u'block': 0}\n"
     ]
    }
   ],
   "source": [
    "for trial in exph.loops[4]:\n",
    "    print(trial)"
   ]
  },
  {
   "cell_type": "code",
   "execution_count": null,
   "metadata": {
    "collapsed": true
   },
   "outputs": [],
   "source": []
  }
 ],
 "metadata": {
  "kernelspec": {
   "display_name": "Python 2",
   "language": "python",
   "name": "python2"
  },
  "language_info": {
   "codemirror_mode": {
    "name": "ipython",
    "version": 2
   },
   "file_extension": ".py",
   "mimetype": "text/x-python",
   "name": "python",
   "nbconvert_exporter": "python",
   "pygments_lexer": "ipython2",
   "version": "2.7.13"
  }
 },
 "nbformat": 4,
 "nbformat_minor": 2
}
